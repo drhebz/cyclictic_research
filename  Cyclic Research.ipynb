{
 "cells": [
  {
   "cell_type": "markdown",
   "metadata": {},
   "source": [
    "## Case Study: How Does a Bike-Share Navigate Speedy Success?\n",
    "This case study is a capstone project which is  a partial fufilment of a Google Analytics Professional Certificate,"
   ]
  },
  {
   "cell_type": "markdown",
   "metadata": {},
   "source": [
    "## Introduction\n",
    "Welcome to the Cyclistic bike-share analysis case study! In this case study, you will perform many real-world tasks of a junior data analyst. You will work for a fictional company, Cyclistic, and meet different characters and team members. In order to answer the key business questions, you will follow the steps of the data analysis process: **ask, prepare, process, analyze, share, and act.** Along the way, the Case Study Roadmap tables — including guiding questions and key tasks — will help you stay on the right path.\n",
    "By the end of this lesson, you will have a portfolio-ready case study. Download the packet and reference the details of this case study anytime. Then, when you begin your job hunt, your case study will be a tangible way to demonstrate your knowledge and skills to potential employers."
   ]
  },
  {
   "cell_type": "markdown",
   "metadata": {},
   "source": [
    "## Scenario\n",
    "You are a junior data analyst working in the marketing analyst team at Cyclistic, a bike-share company in Chicago. The director of marketing believes the company’s future success depends on maximizing the number of annual memberships. Therefore, your team wants to understand how casual riders and annual members use Cyclistic bikes differently. From these insights, your team will design a new marketing strategy to convert casual riders into annual members. But first, Cyclistic executives must approve your recommendations, so they must be backed up with compelling data insights and professional data visualizations."
   ]
  },
  {
   "cell_type": "markdown",
   "metadata": {},
   "source": [
    "## ASK PHASE\n",
    "Three questions will guide the future marketing program:\n",
    "\n",
    "1.How do annual members and casual riders use Cyclistic bikes differently?\n",
    "2.Why would casual riders buy Cyclistic annual memberships?\n",
    "3.How can Cyclistic use digital media to influence casual riders to become members?\n",
    "\n",
    "### Business Task\n",
    "Our objective is to analyse how annual members and casual riders use Cyclistic bikes differently,why would casual riders buy Cyclistic annual memberships and how can Cyclistic use digital media to influence casual riders to become members."
   ]
  },
  {
   "cell_type": "markdown",
   "metadata": {},
   "source": [
    "## PREPARE PHASE\n",
    "data cleaning and manipulation\n",
    "observe and familiarize with data\n",
    "check for null & missing values\n",
    "Perform sanity check"
   ]
  },
  {
   "cell_type": "code",
   "execution_count": 1,
   "metadata": {},
   "outputs": [],
   "source": [
    "#import neccessary packages \n",
    "import numpy as np\n",
    "import pandas as pd\n",
    "import seaborn as sns\n",
    "import matplotlib.pyplot as plt"
   ]
  },
  {
   "cell_type": "code",
   "execution_count": null,
   "metadata": {},
   "outputs": [],
   "source": []
  },
  {
   "cell_type": "code",
   "execution_count": 2,
   "metadata": {},
   "outputs": [],
   "source": [
    "#loading the datasets\n",
    "\n",
    "q1_2020 = pd.read_csv('data/Divvy_Trips_2020_Q1.csv')\n",
    "q4_2019 = pd.read_csv('data/Divvy_Trips_2019_Q4.csv')\n",
    "q3_2019 = pd.read_csv('data/Divvy_Trips_2019_Q3.csv')\n",
    "q2_2019 = pd.read_csv('data/Divvy_Trips_2019_Q2.csv')\n",
    "\n",
    "\n",
    "\n",
    "\n",
    "#q3_2019\n"
   ]
  },
  {
   "cell_type": "code",
   "execution_count": 116,
   "metadata": {},
   "outputs": [
    {
     "data": {
      "text/html": [
       "<div>\n",
       "<style scoped>\n",
       "    .dataframe tbody tr th:only-of-type {\n",
       "        vertical-align: middle;\n",
       "    }\n",
       "\n",
       "    .dataframe tbody tr th {\n",
       "        vertical-align: top;\n",
       "    }\n",
       "\n",
       "    .dataframe thead th {\n",
       "        text-align: right;\n",
       "    }\n",
       "</style>\n",
       "<table border=\"1\" class=\"dataframe\">\n",
       "  <thead>\n",
       "    <tr style=\"text-align: right;\">\n",
       "      <th></th>\n",
       "      <th>ride_id</th>\n",
       "      <th>rideable_type</th>\n",
       "      <th>started_at</th>\n",
       "      <th>ended_at</th>\n",
       "      <th>start_station_name</th>\n",
       "      <th>start_station_id</th>\n",
       "      <th>end_station_name</th>\n",
       "      <th>end_station_id</th>\n",
       "      <th>start_lat</th>\n",
       "      <th>start_lng</th>\n",
       "      <th>end_lat</th>\n",
       "      <th>end_lng</th>\n",
       "      <th>member_casual</th>\n",
       "    </tr>\n",
       "  </thead>\n",
       "  <tbody>\n",
       "    <tr>\n",
       "      <th>0</th>\n",
       "      <td>EACB19130B0CDA4A</td>\n",
       "      <td>docked_bike</td>\n",
       "      <td>2020-01-21 20:06:59</td>\n",
       "      <td>2020-01-21 20:14:30</td>\n",
       "      <td>Western Ave &amp; Leland Ave</td>\n",
       "      <td>239</td>\n",
       "      <td>Clark St &amp; Leland Ave</td>\n",
       "      <td>326.0</td>\n",
       "      <td>41.9665</td>\n",
       "      <td>-87.6884</td>\n",
       "      <td>41.9671</td>\n",
       "      <td>-87.6674</td>\n",
       "      <td>member</td>\n",
       "    </tr>\n",
       "    <tr>\n",
       "      <th>1</th>\n",
       "      <td>8FED874C809DC021</td>\n",
       "      <td>docked_bike</td>\n",
       "      <td>2020-01-30 14:22:39</td>\n",
       "      <td>2020-01-30 14:26:22</td>\n",
       "      <td>Clark St &amp; Montrose Ave</td>\n",
       "      <td>234</td>\n",
       "      <td>Southport Ave &amp; Irving Park Rd</td>\n",
       "      <td>318.0</td>\n",
       "      <td>41.9616</td>\n",
       "      <td>-87.6660</td>\n",
       "      <td>41.9542</td>\n",
       "      <td>-87.6644</td>\n",
       "      <td>member</td>\n",
       "    </tr>\n",
       "    <tr>\n",
       "      <th>2</th>\n",
       "      <td>789F3C21E472CA96</td>\n",
       "      <td>docked_bike</td>\n",
       "      <td>2020-01-09 19:29:26</td>\n",
       "      <td>2020-01-09 19:32:17</td>\n",
       "      <td>Broadway &amp; Belmont Ave</td>\n",
       "      <td>296</td>\n",
       "      <td>Wilton Ave &amp; Belmont Ave</td>\n",
       "      <td>117.0</td>\n",
       "      <td>41.9401</td>\n",
       "      <td>-87.6455</td>\n",
       "      <td>41.9402</td>\n",
       "      <td>-87.6530</td>\n",
       "      <td>member</td>\n",
       "    </tr>\n",
       "    <tr>\n",
       "      <th>3</th>\n",
       "      <td>C9A388DAC6ABF313</td>\n",
       "      <td>docked_bike</td>\n",
       "      <td>2020-01-06 16:17:07</td>\n",
       "      <td>2020-01-06 16:25:56</td>\n",
       "      <td>Clark St &amp; Randolph St</td>\n",
       "      <td>51</td>\n",
       "      <td>Fairbanks Ct &amp; Grand Ave</td>\n",
       "      <td>24.0</td>\n",
       "      <td>41.8846</td>\n",
       "      <td>-87.6319</td>\n",
       "      <td>41.8918</td>\n",
       "      <td>-87.6206</td>\n",
       "      <td>member</td>\n",
       "    </tr>\n",
       "    <tr>\n",
       "      <th>4</th>\n",
       "      <td>943BC3CBECCFD662</td>\n",
       "      <td>docked_bike</td>\n",
       "      <td>2020-01-30 08:37:16</td>\n",
       "      <td>2020-01-30 08:42:48</td>\n",
       "      <td>Clinton St &amp; Lake St</td>\n",
       "      <td>66</td>\n",
       "      <td>Wells St &amp; Hubbard St</td>\n",
       "      <td>212.0</td>\n",
       "      <td>41.8856</td>\n",
       "      <td>-87.6418</td>\n",
       "      <td>41.8899</td>\n",
       "      <td>-87.6343</td>\n",
       "      <td>member</td>\n",
       "    </tr>\n",
       "  </tbody>\n",
       "</table>\n",
       "</div>"
      ],
      "text/plain": [
       "            ride_id rideable_type           started_at             ended_at  \\\n",
       "0  EACB19130B0CDA4A   docked_bike  2020-01-21 20:06:59  2020-01-21 20:14:30   \n",
       "1  8FED874C809DC021   docked_bike  2020-01-30 14:22:39  2020-01-30 14:26:22   \n",
       "2  789F3C21E472CA96   docked_bike  2020-01-09 19:29:26  2020-01-09 19:32:17   \n",
       "3  C9A388DAC6ABF313   docked_bike  2020-01-06 16:17:07  2020-01-06 16:25:56   \n",
       "4  943BC3CBECCFD662   docked_bike  2020-01-30 08:37:16  2020-01-30 08:42:48   \n",
       "\n",
       "         start_station_name  start_station_id                end_station_name  \\\n",
       "0  Western Ave & Leland Ave               239           Clark St & Leland Ave   \n",
       "1   Clark St & Montrose Ave               234  Southport Ave & Irving Park Rd   \n",
       "2    Broadway & Belmont Ave               296        Wilton Ave & Belmont Ave   \n",
       "3    Clark St & Randolph St                51        Fairbanks Ct & Grand Ave   \n",
       "4      Clinton St & Lake St                66           Wells St & Hubbard St   \n",
       "\n",
       "   end_station_id  start_lat  start_lng  end_lat  end_lng member_casual  \n",
       "0           326.0    41.9665   -87.6884  41.9671 -87.6674        member  \n",
       "1           318.0    41.9616   -87.6660  41.9542 -87.6644        member  \n",
       "2           117.0    41.9401   -87.6455  41.9402 -87.6530        member  \n",
       "3            24.0    41.8846   -87.6319  41.8918 -87.6206        member  \n",
       "4           212.0    41.8856   -87.6418  41.8899 -87.6343        member  "
      ]
     },
     "execution_count": 116,
     "metadata": {},
     "output_type": "execute_result"
    }
   ],
   "source": [
    "q1_2020.head()"
   ]
  },
  {
   "cell_type": "markdown",
   "metadata": {},
   "source": [
    "### PROCESS PHASE\n",
    "1. Check the data for errors. \n",
    "2. Choose your tools. \n",
    "3. Transform the data so you can work with it effectively. \n",
    "4. Document the cleaning process."
   ]
  },
  {
   "cell_type": "code",
   "execution_count": 3,
   "metadata": {},
   "outputs": [],
   "source": [
    " \n",
    "\n",
    "#renaming to be consistent with q1_2020\n",
    "\n",
    "q3_2019.rename(columns=\n",
    "               {\"trip_id\": \"ride_id\",\n",
    "                \"bikeid\" : \"rideable_type\",\n",
    "               \"start_time\": \"started_at\",\n",
    "               \"end_time\": \"ended_at\",\n",
    "               \"to_station_id\" : \"end_station_id\",\n",
    "               \"from_station_id\":\"start_station_id\",\n",
    "               \"from_station_name\" :\"start_station_name\",\n",
    "               \"to_station_name\" :\"end_station_name\",\n",
    "               \"usertype\":\"member_casual\"},inplace=True)\n",
    "\n",
    "q4_2019.rename(columns=\n",
    "               {\"trip_id\": \"ride_id\",\n",
    "                \"bikeid\" : \"rideable_type\",\n",
    "               \"start_time\": \"started_at\",\n",
    "               \"end_time\": \"ended_at\",\n",
    "               \"to_station_id\" : \"end_station_id\",\n",
    "               \"from_station_id\":\"start_station_id\",\n",
    "               \"from_station_name\" :\"start_station_name\",\n",
    "               \"to_station_name\" :\"end_station_name\",\n",
    "               \"usertype\":\"member_casual\"},inplace=True)\n",
    "\n",
    " \n",
    "\n",
    "\n",
    "q2_2019.rename(columns=\n",
    "               {\"01 - Rental Details Rental ID\": \"ride_id\",\n",
    "                \"01 - Rental Details Bike ID\" : \"rideable_type\",\n",
    "               \"01 - Rental Details Local Start Time\": \"started_at\",\n",
    "               \"01 - Rental Details Local End Time\": \"ended_at\",\n",
    "               \"03 - Rental Start Station ID\" : \"end_station_id\",\n",
    "               \"02 - Rental End Station ID\":\"start_station_id\",\n",
    "               \"03 - Rental Start Station Name\" :\"start_station_name\",\n",
    "               \"02 - Rental End Station Name\" :\"end_station_name\",\n",
    "               \"User Type\":\"member_casual\"},inplace=True)\n"
   ]
  },
  {
   "cell_type": "code",
   "execution_count": 4,
   "metadata": {},
   "outputs": [],
   "source": [
    "#\n",
    "q3_2019['ride_id']=q3_2019['ride_id'].astype('str')\n",
    "q3_2019['rideable_type']=q3_2019['rideable_type'].astype('str')\n",
    "q4_2019['ride_id']=q4_2019['ride_id'].astype('str')\n",
    "q4_2019['rideable_type']=q4_2019['rideable_type'].astype('str')\n",
    "q2_2019['ride_id']=q2_2019['ride_id'].astype('str')\n",
    "q2_2019['rideable_type']=q2_2019['rideable_type'].astype('str')"
   ]
  },
  {
   "cell_type": "code",
   "execution_count": 5,
   "metadata": {},
   "outputs": [
    {
     "name": "stdout",
     "output_type": "stream",
     "text": [
      "<class 'pandas.core.frame.DataFrame'>\n",
      "RangeIndex: 1640718 entries, 0 to 1640717\n",
      "Data columns (total 12 columns):\n",
      " #   Column              Non-Null Count    Dtype  \n",
      "---  ------              --------------    -----  \n",
      " 0   ride_id             1640718 non-null  object \n",
      " 1   started_at          1640718 non-null  object \n",
      " 2   ended_at            1640718 non-null  object \n",
      " 3   rideable_type       1640718 non-null  object \n",
      " 4   tripduration        1640718 non-null  object \n",
      " 5   start_station_id    1640718 non-null  int64  \n",
      " 6   start_station_name  1640718 non-null  object \n",
      " 7   end_station_id      1640718 non-null  int64  \n",
      " 8   end_station_name    1640718 non-null  object \n",
      " 9   member_casual       1640718 non-null  object \n",
      " 10  gender              1353368 non-null  object \n",
      " 11  birthyear           1362624 non-null  float64\n",
      "dtypes: float64(1), int64(2), object(9)\n",
      "memory usage: 150.2+ MB\n"
     ]
    }
   ],
   "source": [
    "q3_2019.info()"
   ]
  },
  {
   "cell_type": "code",
   "execution_count": 6,
   "metadata": {},
   "outputs": [],
   "source": [
    "#the next thing is to merge the datasets in to one named all_trips\n",
    "all_trips= pd.merge(left=q2_2019,right=q3_2019,how='outer')\n",
    "all_trips= pd.merge(left=all_trips,right=q4_2019,how='outer')\n",
    "all_trips= pd.merge(left=all_trips,right=q1_2020,how='outer')"
   ]
  },
  {
   "cell_type": "code",
   "execution_count": 7,
   "metadata": {},
   "outputs": [
    {
     "data": {
      "text/html": [
       "<div>\n",
       "<style scoped>\n",
       "    .dataframe tbody tr th:only-of-type {\n",
       "        vertical-align: middle;\n",
       "    }\n",
       "\n",
       "    .dataframe tbody tr th {\n",
       "        vertical-align: top;\n",
       "    }\n",
       "\n",
       "    .dataframe thead th {\n",
       "        text-align: right;\n",
       "    }\n",
       "</style>\n",
       "<table border=\"1\" class=\"dataframe\">\n",
       "  <thead>\n",
       "    <tr style=\"text-align: right;\">\n",
       "      <th></th>\n",
       "      <th>ride_id</th>\n",
       "      <th>started_at</th>\n",
       "      <th>ended_at</th>\n",
       "      <th>rideable_type</th>\n",
       "      <th>01 - Rental Details Duration In Seconds Uncapped</th>\n",
       "      <th>end_station_id</th>\n",
       "      <th>start_station_name</th>\n",
       "      <th>start_station_id</th>\n",
       "      <th>end_station_name</th>\n",
       "      <th>member_casual</th>\n",
       "      <th>Member Gender</th>\n",
       "      <th>05 - Member Details Member Birthday Year</th>\n",
       "      <th>tripduration</th>\n",
       "      <th>gender</th>\n",
       "      <th>birthyear</th>\n",
       "      <th>start_lat</th>\n",
       "      <th>start_lng</th>\n",
       "      <th>end_lat</th>\n",
       "      <th>end_lng</th>\n",
       "    </tr>\n",
       "  </thead>\n",
       "  <tbody>\n",
       "    <tr>\n",
       "      <th>0</th>\n",
       "      <td>22178529</td>\n",
       "      <td>2019-04-01 00:02:22</td>\n",
       "      <td>2019-04-01 00:09:48</td>\n",
       "      <td>6251</td>\n",
       "      <td>446.0</td>\n",
       "      <td>81.0</td>\n",
       "      <td>Daley Center Plaza</td>\n",
       "      <td>56</td>\n",
       "      <td>Desplaines St &amp; Kinzie St</td>\n",
       "      <td>Subscriber</td>\n",
       "      <td>Male</td>\n",
       "      <td>1975.0</td>\n",
       "      <td>NaN</td>\n",
       "      <td>NaN</td>\n",
       "      <td>NaN</td>\n",
       "      <td>NaN</td>\n",
       "      <td>NaN</td>\n",
       "      <td>NaN</td>\n",
       "      <td>NaN</td>\n",
       "    </tr>\n",
       "    <tr>\n",
       "      <th>1</th>\n",
       "      <td>22178530</td>\n",
       "      <td>2019-04-01 00:03:02</td>\n",
       "      <td>2019-04-01 00:20:30</td>\n",
       "      <td>6226</td>\n",
       "      <td>1,048.0</td>\n",
       "      <td>317.0</td>\n",
       "      <td>Wood St &amp; Taylor St</td>\n",
       "      <td>59</td>\n",
       "      <td>Wabash Ave &amp; Roosevelt Rd</td>\n",
       "      <td>Subscriber</td>\n",
       "      <td>Female</td>\n",
       "      <td>1984.0</td>\n",
       "      <td>NaN</td>\n",
       "      <td>NaN</td>\n",
       "      <td>NaN</td>\n",
       "      <td>NaN</td>\n",
       "      <td>NaN</td>\n",
       "      <td>NaN</td>\n",
       "      <td>NaN</td>\n",
       "    </tr>\n",
       "    <tr>\n",
       "      <th>2</th>\n",
       "      <td>22178531</td>\n",
       "      <td>2019-04-01 00:11:07</td>\n",
       "      <td>2019-04-01 00:15:19</td>\n",
       "      <td>5649</td>\n",
       "      <td>252.0</td>\n",
       "      <td>283.0</td>\n",
       "      <td>LaSalle St &amp; Jackson Blvd</td>\n",
       "      <td>174</td>\n",
       "      <td>Canal St &amp; Madison St</td>\n",
       "      <td>Subscriber</td>\n",
       "      <td>Male</td>\n",
       "      <td>1990.0</td>\n",
       "      <td>NaN</td>\n",
       "      <td>NaN</td>\n",
       "      <td>NaN</td>\n",
       "      <td>NaN</td>\n",
       "      <td>NaN</td>\n",
       "      <td>NaN</td>\n",
       "      <td>NaN</td>\n",
       "    </tr>\n",
       "    <tr>\n",
       "      <th>3</th>\n",
       "      <td>22178532</td>\n",
       "      <td>2019-04-01 00:13:01</td>\n",
       "      <td>2019-04-01 00:18:58</td>\n",
       "      <td>4151</td>\n",
       "      <td>357.0</td>\n",
       "      <td>26.0</td>\n",
       "      <td>McClurg Ct &amp; Illinois St</td>\n",
       "      <td>133</td>\n",
       "      <td>Kingsbury St &amp; Kinzie St</td>\n",
       "      <td>Subscriber</td>\n",
       "      <td>Male</td>\n",
       "      <td>1993.0</td>\n",
       "      <td>NaN</td>\n",
       "      <td>NaN</td>\n",
       "      <td>NaN</td>\n",
       "      <td>NaN</td>\n",
       "      <td>NaN</td>\n",
       "      <td>NaN</td>\n",
       "      <td>NaN</td>\n",
       "    </tr>\n",
       "    <tr>\n",
       "      <th>4</th>\n",
       "      <td>22178533</td>\n",
       "      <td>2019-04-01 00:19:26</td>\n",
       "      <td>2019-04-01 00:36:13</td>\n",
       "      <td>3270</td>\n",
       "      <td>1,007.0</td>\n",
       "      <td>202.0</td>\n",
       "      <td>Halsted St &amp; 18th St</td>\n",
       "      <td>129</td>\n",
       "      <td>Blue Island Ave &amp; 18th St</td>\n",
       "      <td>Subscriber</td>\n",
       "      <td>Male</td>\n",
       "      <td>1992.0</td>\n",
       "      <td>NaN</td>\n",
       "      <td>NaN</td>\n",
       "      <td>NaN</td>\n",
       "      <td>NaN</td>\n",
       "      <td>NaN</td>\n",
       "      <td>NaN</td>\n",
       "      <td>NaN</td>\n",
       "    </tr>\n",
       "  </tbody>\n",
       "</table>\n",
       "</div>"
      ],
      "text/plain": [
       "    ride_id           started_at             ended_at rideable_type  \\\n",
       "0  22178529  2019-04-01 00:02:22  2019-04-01 00:09:48          6251   \n",
       "1  22178530  2019-04-01 00:03:02  2019-04-01 00:20:30          6226   \n",
       "2  22178531  2019-04-01 00:11:07  2019-04-01 00:15:19          5649   \n",
       "3  22178532  2019-04-01 00:13:01  2019-04-01 00:18:58          4151   \n",
       "4  22178533  2019-04-01 00:19:26  2019-04-01 00:36:13          3270   \n",
       "\n",
       "  01 - Rental Details Duration In Seconds Uncapped  end_station_id  \\\n",
       "0                                            446.0            81.0   \n",
       "1                                          1,048.0           317.0   \n",
       "2                                            252.0           283.0   \n",
       "3                                            357.0            26.0   \n",
       "4                                          1,007.0           202.0   \n",
       "\n",
       "          start_station_name  start_station_id           end_station_name  \\\n",
       "0         Daley Center Plaza                56  Desplaines St & Kinzie St   \n",
       "1        Wood St & Taylor St                59  Wabash Ave & Roosevelt Rd   \n",
       "2  LaSalle St & Jackson Blvd               174      Canal St & Madison St   \n",
       "3   McClurg Ct & Illinois St               133   Kingsbury St & Kinzie St   \n",
       "4       Halsted St & 18th St               129  Blue Island Ave & 18th St   \n",
       "\n",
       "  member_casual Member Gender  05 - Member Details Member Birthday Year  \\\n",
       "0    Subscriber          Male                                    1975.0   \n",
       "1    Subscriber        Female                                    1984.0   \n",
       "2    Subscriber          Male                                    1990.0   \n",
       "3    Subscriber          Male                                    1993.0   \n",
       "4    Subscriber          Male                                    1992.0   \n",
       "\n",
       "  tripduration gender  birthyear  start_lat  start_lng  end_lat  end_lng  \n",
       "0          NaN    NaN        NaN        NaN        NaN      NaN      NaN  \n",
       "1          NaN    NaN        NaN        NaN        NaN      NaN      NaN  \n",
       "2          NaN    NaN        NaN        NaN        NaN      NaN      NaN  \n",
       "3          NaN    NaN        NaN        NaN        NaN      NaN      NaN  \n",
       "4          NaN    NaN        NaN        NaN        NaN      NaN      NaN  "
      ]
     },
     "execution_count": 7,
     "metadata": {},
     "output_type": "execute_result"
    }
   ],
   "source": [
    "all_trips.head()"
   ]
  },
  {
   "cell_type": "markdown",
   "metadata": {},
   "source": [
    "#### deleting columns that we dont need"
   ]
  },
  {
   "cell_type": "code",
   "execution_count": 8,
   "metadata": {},
   "outputs": [],
   "source": [
    "#since we dont need them we use del to drop them\n",
    "del all_trips['01 - Rental Details Duration In Seconds Uncapped']\n",
    "del all_trips['Member Gender']\n",
    "del all_trips['05 - Member Details Member Birthday Year']\n",
    "del all_trips['start_lat']\n",
    "del all_trips['start_lng']\n",
    "del all_trips['end_lng']\n",
    "del all_trips['end_lat']\n",
    "del all_trips['birthyear']\n",
    "del all_trips['tripduration']\n",
    "del all_trips['gender']"
   ]
  },
  {
   "cell_type": "code",
   "execution_count": 9,
   "metadata": {},
   "outputs": [
    {
     "data": {
      "text/html": [
       "<div>\n",
       "<style scoped>\n",
       "    .dataframe tbody tr th:only-of-type {\n",
       "        vertical-align: middle;\n",
       "    }\n",
       "\n",
       "    .dataframe tbody tr th {\n",
       "        vertical-align: top;\n",
       "    }\n",
       "\n",
       "    .dataframe thead th {\n",
       "        text-align: right;\n",
       "    }\n",
       "</style>\n",
       "<table border=\"1\" class=\"dataframe\">\n",
       "  <thead>\n",
       "    <tr style=\"text-align: right;\">\n",
       "      <th></th>\n",
       "      <th>ride_id</th>\n",
       "      <th>started_at</th>\n",
       "      <th>ended_at</th>\n",
       "      <th>rideable_type</th>\n",
       "      <th>end_station_id</th>\n",
       "      <th>start_station_name</th>\n",
       "      <th>start_station_id</th>\n",
       "      <th>end_station_name</th>\n",
       "      <th>member_casual</th>\n",
       "    </tr>\n",
       "  </thead>\n",
       "  <tbody>\n",
       "    <tr>\n",
       "      <th>0</th>\n",
       "      <td>22178529</td>\n",
       "      <td>2019-04-01 00:02:22</td>\n",
       "      <td>2019-04-01 00:09:48</td>\n",
       "      <td>6251</td>\n",
       "      <td>81.0</td>\n",
       "      <td>Daley Center Plaza</td>\n",
       "      <td>56</td>\n",
       "      <td>Desplaines St &amp; Kinzie St</td>\n",
       "      <td>Subscriber</td>\n",
       "    </tr>\n",
       "    <tr>\n",
       "      <th>1</th>\n",
       "      <td>22178530</td>\n",
       "      <td>2019-04-01 00:03:02</td>\n",
       "      <td>2019-04-01 00:20:30</td>\n",
       "      <td>6226</td>\n",
       "      <td>317.0</td>\n",
       "      <td>Wood St &amp; Taylor St</td>\n",
       "      <td>59</td>\n",
       "      <td>Wabash Ave &amp; Roosevelt Rd</td>\n",
       "      <td>Subscriber</td>\n",
       "    </tr>\n",
       "    <tr>\n",
       "      <th>2</th>\n",
       "      <td>22178531</td>\n",
       "      <td>2019-04-01 00:11:07</td>\n",
       "      <td>2019-04-01 00:15:19</td>\n",
       "      <td>5649</td>\n",
       "      <td>283.0</td>\n",
       "      <td>LaSalle St &amp; Jackson Blvd</td>\n",
       "      <td>174</td>\n",
       "      <td>Canal St &amp; Madison St</td>\n",
       "      <td>Subscriber</td>\n",
       "    </tr>\n",
       "    <tr>\n",
       "      <th>3</th>\n",
       "      <td>22178532</td>\n",
       "      <td>2019-04-01 00:13:01</td>\n",
       "      <td>2019-04-01 00:18:58</td>\n",
       "      <td>4151</td>\n",
       "      <td>26.0</td>\n",
       "      <td>McClurg Ct &amp; Illinois St</td>\n",
       "      <td>133</td>\n",
       "      <td>Kingsbury St &amp; Kinzie St</td>\n",
       "      <td>Subscriber</td>\n",
       "    </tr>\n",
       "    <tr>\n",
       "      <th>4</th>\n",
       "      <td>22178533</td>\n",
       "      <td>2019-04-01 00:19:26</td>\n",
       "      <td>2019-04-01 00:36:13</td>\n",
       "      <td>3270</td>\n",
       "      <td>202.0</td>\n",
       "      <td>Halsted St &amp; 18th St</td>\n",
       "      <td>129</td>\n",
       "      <td>Blue Island Ave &amp; 18th St</td>\n",
       "      <td>Subscriber</td>\n",
       "    </tr>\n",
       "  </tbody>\n",
       "</table>\n",
       "</div>"
      ],
      "text/plain": [
       "    ride_id           started_at             ended_at rideable_type  \\\n",
       "0  22178529  2019-04-01 00:02:22  2019-04-01 00:09:48          6251   \n",
       "1  22178530  2019-04-01 00:03:02  2019-04-01 00:20:30          6226   \n",
       "2  22178531  2019-04-01 00:11:07  2019-04-01 00:15:19          5649   \n",
       "3  22178532  2019-04-01 00:13:01  2019-04-01 00:18:58          4151   \n",
       "4  22178533  2019-04-01 00:19:26  2019-04-01 00:36:13          3270   \n",
       "\n",
       "   end_station_id         start_station_name  start_station_id  \\\n",
       "0            81.0         Daley Center Plaza                56   \n",
       "1           317.0        Wood St & Taylor St                59   \n",
       "2           283.0  LaSalle St & Jackson Blvd               174   \n",
       "3            26.0   McClurg Ct & Illinois St               133   \n",
       "4           202.0       Halsted St & 18th St               129   \n",
       "\n",
       "            end_station_name member_casual  \n",
       "0  Desplaines St & Kinzie St    Subscriber  \n",
       "1  Wabash Ave & Roosevelt Rd    Subscriber  \n",
       "2      Canal St & Madison St    Subscriber  \n",
       "3   Kingsbury St & Kinzie St    Subscriber  \n",
       "4  Blue Island Ave & 18th St    Subscriber  "
      ]
     },
     "execution_count": 9,
     "metadata": {},
     "output_type": "execute_result"
    }
   ],
   "source": [
    "all_trips.head()"
   ]
  },
  {
   "cell_type": "code",
   "execution_count": 10,
   "metadata": {},
   "outputs": [],
   "source": [
    "#with the member_casual we need to ressign the entries:Customer & Subscriber to either member or casual while maintaing\n",
    "#casual and member values\n",
    "all_trips['member_casual'] = all_trips['member_casual'].map({\n",
    "    'casual':'casual',\n",
    "    'member':'member',\n",
    "    'Subscriber':'member',\n",
    "    'Customer':'casual'\n",
    "})"
   ]
  },
  {
   "cell_type": "code",
   "execution_count": 11,
   "metadata": {},
   "outputs": [
    {
     "data": {
      "text/html": [
       "<div>\n",
       "<style scoped>\n",
       "    .dataframe tbody tr th:only-of-type {\n",
       "        vertical-align: middle;\n",
       "    }\n",
       "\n",
       "    .dataframe tbody tr th {\n",
       "        vertical-align: top;\n",
       "    }\n",
       "\n",
       "    .dataframe thead th {\n",
       "        text-align: right;\n",
       "    }\n",
       "</style>\n",
       "<table border=\"1\" class=\"dataframe\">\n",
       "  <thead>\n",
       "    <tr style=\"text-align: right;\">\n",
       "      <th></th>\n",
       "      <th>ride_id</th>\n",
       "      <th>started_at</th>\n",
       "      <th>ended_at</th>\n",
       "      <th>rideable_type</th>\n",
       "      <th>end_station_id</th>\n",
       "      <th>start_station_name</th>\n",
       "      <th>start_station_id</th>\n",
       "      <th>end_station_name</th>\n",
       "      <th>member_casual</th>\n",
       "    </tr>\n",
       "  </thead>\n",
       "  <tbody>\n",
       "    <tr>\n",
       "      <th>0</th>\n",
       "      <td>22178529</td>\n",
       "      <td>2019-04-01 00:02:22</td>\n",
       "      <td>2019-04-01 00:09:48</td>\n",
       "      <td>6251</td>\n",
       "      <td>81.0</td>\n",
       "      <td>Daley Center Plaza</td>\n",
       "      <td>56</td>\n",
       "      <td>Desplaines St &amp; Kinzie St</td>\n",
       "      <td>member</td>\n",
       "    </tr>\n",
       "    <tr>\n",
       "      <th>1</th>\n",
       "      <td>22178530</td>\n",
       "      <td>2019-04-01 00:03:02</td>\n",
       "      <td>2019-04-01 00:20:30</td>\n",
       "      <td>6226</td>\n",
       "      <td>317.0</td>\n",
       "      <td>Wood St &amp; Taylor St</td>\n",
       "      <td>59</td>\n",
       "      <td>Wabash Ave &amp; Roosevelt Rd</td>\n",
       "      <td>member</td>\n",
       "    </tr>\n",
       "    <tr>\n",
       "      <th>2</th>\n",
       "      <td>22178531</td>\n",
       "      <td>2019-04-01 00:11:07</td>\n",
       "      <td>2019-04-01 00:15:19</td>\n",
       "      <td>5649</td>\n",
       "      <td>283.0</td>\n",
       "      <td>LaSalle St &amp; Jackson Blvd</td>\n",
       "      <td>174</td>\n",
       "      <td>Canal St &amp; Madison St</td>\n",
       "      <td>member</td>\n",
       "    </tr>\n",
       "    <tr>\n",
       "      <th>3</th>\n",
       "      <td>22178532</td>\n",
       "      <td>2019-04-01 00:13:01</td>\n",
       "      <td>2019-04-01 00:18:58</td>\n",
       "      <td>4151</td>\n",
       "      <td>26.0</td>\n",
       "      <td>McClurg Ct &amp; Illinois St</td>\n",
       "      <td>133</td>\n",
       "      <td>Kingsbury St &amp; Kinzie St</td>\n",
       "      <td>member</td>\n",
       "    </tr>\n",
       "    <tr>\n",
       "      <th>4</th>\n",
       "      <td>22178533</td>\n",
       "      <td>2019-04-01 00:19:26</td>\n",
       "      <td>2019-04-01 00:36:13</td>\n",
       "      <td>3270</td>\n",
       "      <td>202.0</td>\n",
       "      <td>Halsted St &amp; 18th St</td>\n",
       "      <td>129</td>\n",
       "      <td>Blue Island Ave &amp; 18th St</td>\n",
       "      <td>member</td>\n",
       "    </tr>\n",
       "  </tbody>\n",
       "</table>\n",
       "</div>"
      ],
      "text/plain": [
       "    ride_id           started_at             ended_at rideable_type  \\\n",
       "0  22178529  2019-04-01 00:02:22  2019-04-01 00:09:48          6251   \n",
       "1  22178530  2019-04-01 00:03:02  2019-04-01 00:20:30          6226   \n",
       "2  22178531  2019-04-01 00:11:07  2019-04-01 00:15:19          5649   \n",
       "3  22178532  2019-04-01 00:13:01  2019-04-01 00:18:58          4151   \n",
       "4  22178533  2019-04-01 00:19:26  2019-04-01 00:36:13          3270   \n",
       "\n",
       "   end_station_id         start_station_name  start_station_id  \\\n",
       "0            81.0         Daley Center Plaza                56   \n",
       "1           317.0        Wood St & Taylor St                59   \n",
       "2           283.0  LaSalle St & Jackson Blvd               174   \n",
       "3            26.0   McClurg Ct & Illinois St               133   \n",
       "4           202.0       Halsted St & 18th St               129   \n",
       "\n",
       "            end_station_name member_casual  \n",
       "0  Desplaines St & Kinzie St        member  \n",
       "1  Wabash Ave & Roosevelt Rd        member  \n",
       "2      Canal St & Madison St        member  \n",
       "3   Kingsbury St & Kinzie St        member  \n",
       "4  Blue Island Ave & 18th St        member  "
      ]
     },
     "execution_count": 11,
     "metadata": {},
     "output_type": "execute_result"
    }
   ],
   "source": [
    "all_trips.head()"
   ]
  },
  {
   "cell_type": "markdown",
   "metadata": {},
   "source": [
    "### lets break the date in to months days and year"
   ]
  },
  {
   "cell_type": "code",
   "execution_count": 12,
   "metadata": {},
   "outputs": [],
   "source": [
    "#lets start with creating a new column 'Date' \n",
    "all_trips['Date'] = pd.DatetimeIndex(all_trips['started_at']).strftime(\"%d %b %Y\")\n",
    "\n",
    "all_trips['Month'] = pd.DatetimeIndex(all_trips['started_at']).strftime(\"%b\")\n",
    "all_trips['Day'] = pd.DatetimeIndex(all_trips['started_at']).strftime(\"%d\")\n",
    "all_trips['Year'] = pd.DatetimeIndex(all_trips['started_at']).strftime(\"%Y\")\n"
   ]
  },
  {
   "cell_type": "code",
   "execution_count": 13,
   "metadata": {},
   "outputs": [
    {
     "data": {
      "text/html": [
       "<div>\n",
       "<style scoped>\n",
       "    .dataframe tbody tr th:only-of-type {\n",
       "        vertical-align: middle;\n",
       "    }\n",
       "\n",
       "    .dataframe tbody tr th {\n",
       "        vertical-align: top;\n",
       "    }\n",
       "\n",
       "    .dataframe thead th {\n",
       "        text-align: right;\n",
       "    }\n",
       "</style>\n",
       "<table border=\"1\" class=\"dataframe\">\n",
       "  <thead>\n",
       "    <tr style=\"text-align: right;\">\n",
       "      <th></th>\n",
       "      <th>ride_id</th>\n",
       "      <th>started_at</th>\n",
       "      <th>ended_at</th>\n",
       "      <th>rideable_type</th>\n",
       "      <th>end_station_id</th>\n",
       "      <th>start_station_name</th>\n",
       "      <th>start_station_id</th>\n",
       "      <th>end_station_name</th>\n",
       "      <th>member_casual</th>\n",
       "      <th>Date</th>\n",
       "      <th>Month</th>\n",
       "      <th>Day</th>\n",
       "      <th>Year</th>\n",
       "    </tr>\n",
       "  </thead>\n",
       "  <tbody>\n",
       "    <tr>\n",
       "      <th>0</th>\n",
       "      <td>22178529</td>\n",
       "      <td>2019-04-01 00:02:22</td>\n",
       "      <td>2019-04-01 00:09:48</td>\n",
       "      <td>6251</td>\n",
       "      <td>81.0</td>\n",
       "      <td>Daley Center Plaza</td>\n",
       "      <td>56</td>\n",
       "      <td>Desplaines St &amp; Kinzie St</td>\n",
       "      <td>member</td>\n",
       "      <td>01 Apr 2019</td>\n",
       "      <td>Apr</td>\n",
       "      <td>01</td>\n",
       "      <td>2019</td>\n",
       "    </tr>\n",
       "    <tr>\n",
       "      <th>1</th>\n",
       "      <td>22178530</td>\n",
       "      <td>2019-04-01 00:03:02</td>\n",
       "      <td>2019-04-01 00:20:30</td>\n",
       "      <td>6226</td>\n",
       "      <td>317.0</td>\n",
       "      <td>Wood St &amp; Taylor St</td>\n",
       "      <td>59</td>\n",
       "      <td>Wabash Ave &amp; Roosevelt Rd</td>\n",
       "      <td>member</td>\n",
       "      <td>01 Apr 2019</td>\n",
       "      <td>Apr</td>\n",
       "      <td>01</td>\n",
       "      <td>2019</td>\n",
       "    </tr>\n",
       "    <tr>\n",
       "      <th>2</th>\n",
       "      <td>22178531</td>\n",
       "      <td>2019-04-01 00:11:07</td>\n",
       "      <td>2019-04-01 00:15:19</td>\n",
       "      <td>5649</td>\n",
       "      <td>283.0</td>\n",
       "      <td>LaSalle St &amp; Jackson Blvd</td>\n",
       "      <td>174</td>\n",
       "      <td>Canal St &amp; Madison St</td>\n",
       "      <td>member</td>\n",
       "      <td>01 Apr 2019</td>\n",
       "      <td>Apr</td>\n",
       "      <td>01</td>\n",
       "      <td>2019</td>\n",
       "    </tr>\n",
       "    <tr>\n",
       "      <th>3</th>\n",
       "      <td>22178532</td>\n",
       "      <td>2019-04-01 00:13:01</td>\n",
       "      <td>2019-04-01 00:18:58</td>\n",
       "      <td>4151</td>\n",
       "      <td>26.0</td>\n",
       "      <td>McClurg Ct &amp; Illinois St</td>\n",
       "      <td>133</td>\n",
       "      <td>Kingsbury St &amp; Kinzie St</td>\n",
       "      <td>member</td>\n",
       "      <td>01 Apr 2019</td>\n",
       "      <td>Apr</td>\n",
       "      <td>01</td>\n",
       "      <td>2019</td>\n",
       "    </tr>\n",
       "    <tr>\n",
       "      <th>4</th>\n",
       "      <td>22178533</td>\n",
       "      <td>2019-04-01 00:19:26</td>\n",
       "      <td>2019-04-01 00:36:13</td>\n",
       "      <td>3270</td>\n",
       "      <td>202.0</td>\n",
       "      <td>Halsted St &amp; 18th St</td>\n",
       "      <td>129</td>\n",
       "      <td>Blue Island Ave &amp; 18th St</td>\n",
       "      <td>member</td>\n",
       "      <td>01 Apr 2019</td>\n",
       "      <td>Apr</td>\n",
       "      <td>01</td>\n",
       "      <td>2019</td>\n",
       "    </tr>\n",
       "  </tbody>\n",
       "</table>\n",
       "</div>"
      ],
      "text/plain": [
       "    ride_id           started_at             ended_at rideable_type  \\\n",
       "0  22178529  2019-04-01 00:02:22  2019-04-01 00:09:48          6251   \n",
       "1  22178530  2019-04-01 00:03:02  2019-04-01 00:20:30          6226   \n",
       "2  22178531  2019-04-01 00:11:07  2019-04-01 00:15:19          5649   \n",
       "3  22178532  2019-04-01 00:13:01  2019-04-01 00:18:58          4151   \n",
       "4  22178533  2019-04-01 00:19:26  2019-04-01 00:36:13          3270   \n",
       "\n",
       "   end_station_id         start_station_name  start_station_id  \\\n",
       "0            81.0         Daley Center Plaza                56   \n",
       "1           317.0        Wood St & Taylor St                59   \n",
       "2           283.0  LaSalle St & Jackson Blvd               174   \n",
       "3            26.0   McClurg Ct & Illinois St               133   \n",
       "4           202.0       Halsted St & 18th St               129   \n",
       "\n",
       "            end_station_name member_casual         Date Month Day  Year  \n",
       "0  Desplaines St & Kinzie St        member  01 Apr 2019   Apr  01  2019  \n",
       "1  Wabash Ave & Roosevelt Rd        member  01 Apr 2019   Apr  01  2019  \n",
       "2      Canal St & Madison St        member  01 Apr 2019   Apr  01  2019  \n",
       "3   Kingsbury St & Kinzie St        member  01 Apr 2019   Apr  01  2019  \n",
       "4  Blue Island Ave & 18th St        member  01 Apr 2019   Apr  01  2019  "
      ]
     },
     "execution_count": 13,
     "metadata": {},
     "output_type": "execute_result"
    }
   ],
   "source": [
    "all_trips.head()"
   ]
  },
  {
   "cell_type": "markdown",
   "metadata": {},
   "source": [
    "### calculate the ride length in seconds"
   ]
  },
  {
   "cell_type": "code",
   "execution_count": 16,
   "metadata": {},
   "outputs": [],
   "source": [
    "#first convert to ended_at & started_at to timeIndex\n",
    "all_trips['started_at'] = pd.DatetimeIndex(all_trips['started_at'])\n",
    "all_trips['ended_at'] = pd.DatetimeIndex(all_trips['ended_at'])\n",
    "\n",
    "#then proceed to do the subtration to find the diff\n",
    "all_trips['ride_length'] = all_trips[\"ended_at\"] - all_trips[\"started_at\"]\n",
    "\n",
    "#then to convert the minutes to seconds\n",
    "all_trips['ride_length']=all_trips['ride_length']/np.timedelta64(1,'s')"
   ]
  },
  {
   "cell_type": "code",
   "execution_count": 17,
   "metadata": {},
   "outputs": [
    {
     "data": {
      "text/html": [
       "<div>\n",
       "<style scoped>\n",
       "    .dataframe tbody tr th:only-of-type {\n",
       "        vertical-align: middle;\n",
       "    }\n",
       "\n",
       "    .dataframe tbody tr th {\n",
       "        vertical-align: top;\n",
       "    }\n",
       "\n",
       "    .dataframe thead th {\n",
       "        text-align: right;\n",
       "    }\n",
       "</style>\n",
       "<table border=\"1\" class=\"dataframe\">\n",
       "  <thead>\n",
       "    <tr style=\"text-align: right;\">\n",
       "      <th></th>\n",
       "      <th>ride_id</th>\n",
       "      <th>started_at</th>\n",
       "      <th>ended_at</th>\n",
       "      <th>rideable_type</th>\n",
       "      <th>end_station_id</th>\n",
       "      <th>start_station_name</th>\n",
       "      <th>start_station_id</th>\n",
       "      <th>end_station_name</th>\n",
       "      <th>member_casual</th>\n",
       "      <th>Date</th>\n",
       "      <th>Month</th>\n",
       "      <th>Day</th>\n",
       "      <th>Year</th>\n",
       "      <th>ride_length</th>\n",
       "    </tr>\n",
       "  </thead>\n",
       "  <tbody>\n",
       "    <tr>\n",
       "      <th>0</th>\n",
       "      <td>22178529</td>\n",
       "      <td>2019-04-01 00:02:22</td>\n",
       "      <td>2019-04-01 00:09:48</td>\n",
       "      <td>6251</td>\n",
       "      <td>81.0</td>\n",
       "      <td>Daley Center Plaza</td>\n",
       "      <td>56</td>\n",
       "      <td>Desplaines St &amp; Kinzie St</td>\n",
       "      <td>member</td>\n",
       "      <td>01 Apr 2019</td>\n",
       "      <td>Apr</td>\n",
       "      <td>01</td>\n",
       "      <td>2019</td>\n",
       "      <td>446.0</td>\n",
       "    </tr>\n",
       "    <tr>\n",
       "      <th>1</th>\n",
       "      <td>22178530</td>\n",
       "      <td>2019-04-01 00:03:02</td>\n",
       "      <td>2019-04-01 00:20:30</td>\n",
       "      <td>6226</td>\n",
       "      <td>317.0</td>\n",
       "      <td>Wood St &amp; Taylor St</td>\n",
       "      <td>59</td>\n",
       "      <td>Wabash Ave &amp; Roosevelt Rd</td>\n",
       "      <td>member</td>\n",
       "      <td>01 Apr 2019</td>\n",
       "      <td>Apr</td>\n",
       "      <td>01</td>\n",
       "      <td>2019</td>\n",
       "      <td>1048.0</td>\n",
       "    </tr>\n",
       "    <tr>\n",
       "      <th>2</th>\n",
       "      <td>22178531</td>\n",
       "      <td>2019-04-01 00:11:07</td>\n",
       "      <td>2019-04-01 00:15:19</td>\n",
       "      <td>5649</td>\n",
       "      <td>283.0</td>\n",
       "      <td>LaSalle St &amp; Jackson Blvd</td>\n",
       "      <td>174</td>\n",
       "      <td>Canal St &amp; Madison St</td>\n",
       "      <td>member</td>\n",
       "      <td>01 Apr 2019</td>\n",
       "      <td>Apr</td>\n",
       "      <td>01</td>\n",
       "      <td>2019</td>\n",
       "      <td>252.0</td>\n",
       "    </tr>\n",
       "    <tr>\n",
       "      <th>3</th>\n",
       "      <td>22178532</td>\n",
       "      <td>2019-04-01 00:13:01</td>\n",
       "      <td>2019-04-01 00:18:58</td>\n",
       "      <td>4151</td>\n",
       "      <td>26.0</td>\n",
       "      <td>McClurg Ct &amp; Illinois St</td>\n",
       "      <td>133</td>\n",
       "      <td>Kingsbury St &amp; Kinzie St</td>\n",
       "      <td>member</td>\n",
       "      <td>01 Apr 2019</td>\n",
       "      <td>Apr</td>\n",
       "      <td>01</td>\n",
       "      <td>2019</td>\n",
       "      <td>357.0</td>\n",
       "    </tr>\n",
       "    <tr>\n",
       "      <th>4</th>\n",
       "      <td>22178533</td>\n",
       "      <td>2019-04-01 00:19:26</td>\n",
       "      <td>2019-04-01 00:36:13</td>\n",
       "      <td>3270</td>\n",
       "      <td>202.0</td>\n",
       "      <td>Halsted St &amp; 18th St</td>\n",
       "      <td>129</td>\n",
       "      <td>Blue Island Ave &amp; 18th St</td>\n",
       "      <td>member</td>\n",
       "      <td>01 Apr 2019</td>\n",
       "      <td>Apr</td>\n",
       "      <td>01</td>\n",
       "      <td>2019</td>\n",
       "      <td>1007.0</td>\n",
       "    </tr>\n",
       "  </tbody>\n",
       "</table>\n",
       "</div>"
      ],
      "text/plain": [
       "    ride_id          started_at            ended_at rideable_type  \\\n",
       "0  22178529 2019-04-01 00:02:22 2019-04-01 00:09:48          6251   \n",
       "1  22178530 2019-04-01 00:03:02 2019-04-01 00:20:30          6226   \n",
       "2  22178531 2019-04-01 00:11:07 2019-04-01 00:15:19          5649   \n",
       "3  22178532 2019-04-01 00:13:01 2019-04-01 00:18:58          4151   \n",
       "4  22178533 2019-04-01 00:19:26 2019-04-01 00:36:13          3270   \n",
       "\n",
       "   end_station_id         start_station_name  start_station_id  \\\n",
       "0            81.0         Daley Center Plaza                56   \n",
       "1           317.0        Wood St & Taylor St                59   \n",
       "2           283.0  LaSalle St & Jackson Blvd               174   \n",
       "3            26.0   McClurg Ct & Illinois St               133   \n",
       "4           202.0       Halsted St & 18th St               129   \n",
       "\n",
       "            end_station_name member_casual         Date Month Day  Year  \\\n",
       "0  Desplaines St & Kinzie St        member  01 Apr 2019   Apr  01  2019   \n",
       "1  Wabash Ave & Roosevelt Rd        member  01 Apr 2019   Apr  01  2019   \n",
       "2      Canal St & Madison St        member  01 Apr 2019   Apr  01  2019   \n",
       "3   Kingsbury St & Kinzie St        member  01 Apr 2019   Apr  01  2019   \n",
       "4  Blue Island Ave & 18th St        member  01 Apr 2019   Apr  01  2019   \n",
       "\n",
       "   ride_length  \n",
       "0        446.0  \n",
       "1       1048.0  \n",
       "2        252.0  \n",
       "3        357.0  \n",
       "4       1007.0  "
      ]
     },
     "execution_count": 17,
     "metadata": {},
     "output_type": "execute_result"
    }
   ],
   "source": [
    "all_trips.head()"
   ]
  },
  {
   "cell_type": "markdown",
   "metadata": {},
   "source": [
    "### Deleting negative numbers and those at HQ QR"
   ]
  },
  {
   "cell_type": "code",
   "execution_count": 18,
   "metadata": {},
   "outputs": [],
   "source": [
    "#removing some negatives and rides for testing at HQ\n",
    "#first filter them into a variable\n",
    "df2=all_trips[(all_trips['ride_length']<0)| (all_trips['end_station_name']=='HQ QR')].index\n",
    "\n",
    "\n",
    "\n",
    "#then now delete the from various columns and rows\n",
    "all_trips.drop(df2,inplace=True)"
   ]
  },
  {
   "cell_type": "markdown",
   "metadata": {},
   "source": [
    "## ANALYSE PHASE\n",
    "After procesing the data ,the next phase is to analyse\n",
    "1. Aggregate your data so it’s useful and accessible. \n",
    "2. Organize and format your data. \n",
    "3. Perform calculations.\n",
    "4. Identify trends and relationships"
   ]
  },
  {
   "cell_type": "code",
   "execution_count": 19,
   "metadata": {},
   "outputs": [
    {
     "data": {
      "text/html": [
       "<div>\n",
       "<style scoped>\n",
       "    .dataframe tbody tr th:only-of-type {\n",
       "        vertical-align: middle;\n",
       "    }\n",
       "\n",
       "    .dataframe tbody tr th {\n",
       "        vertical-align: top;\n",
       "    }\n",
       "\n",
       "    .dataframe thead th {\n",
       "        text-align: right;\n",
       "    }\n",
       "</style>\n",
       "<table border=\"1\" class=\"dataframe\">\n",
       "  <thead>\n",
       "    <tr style=\"text-align: right;\">\n",
       "      <th></th>\n",
       "      <th>end_station_id</th>\n",
       "      <th>start_station_id</th>\n",
       "      <th>ride_length</th>\n",
       "    </tr>\n",
       "  </thead>\n",
       "  <tbody>\n",
       "    <tr>\n",
       "      <th>count</th>\n",
       "      <td>3.876042e+06</td>\n",
       "      <td>3.876042e+06</td>\n",
       "      <td>3.876042e+06</td>\n",
       "    </tr>\n",
       "    <tr>\n",
       "      <th>mean</th>\n",
       "      <td>2.030216e+02</td>\n",
       "      <td>2.027137e+02</td>\n",
       "      <td>1.479081e+03</td>\n",
       "    </tr>\n",
       "    <tr>\n",
       "      <th>std</th>\n",
       "      <td>1.565365e+02</td>\n",
       "      <td>1.565654e+02</td>\n",
       "      <td>3.092376e+04</td>\n",
       "    </tr>\n",
       "    <tr>\n",
       "      <th>min</th>\n",
       "      <td>1.000000e+00</td>\n",
       "      <td>1.000000e+00</td>\n",
       "      <td>1.000000e+00</td>\n",
       "    </tr>\n",
       "    <tr>\n",
       "      <th>25%</th>\n",
       "      <td>7.700000e+01</td>\n",
       "      <td>7.700000e+01</td>\n",
       "      <td>4.120000e+02</td>\n",
       "    </tr>\n",
       "    <tr>\n",
       "      <th>50%</th>\n",
       "      <td>1.740000e+02</td>\n",
       "      <td>1.740000e+02</td>\n",
       "      <td>7.120000e+02</td>\n",
       "    </tr>\n",
       "    <tr>\n",
       "      <th>75%</th>\n",
       "      <td>2.910000e+02</td>\n",
       "      <td>2.910000e+02</td>\n",
       "      <td>1.289000e+03</td>\n",
       "    </tr>\n",
       "    <tr>\n",
       "      <th>max</th>\n",
       "      <td>6.730000e+02</td>\n",
       "      <td>6.750000e+02</td>\n",
       "      <td>9.387024e+06</td>\n",
       "    </tr>\n",
       "  </tbody>\n",
       "</table>\n",
       "</div>"
      ],
      "text/plain": [
       "       end_station_id  start_station_id   ride_length\n",
       "count    3.876042e+06      3.876042e+06  3.876042e+06\n",
       "mean     2.030216e+02      2.027137e+02  1.479081e+03\n",
       "std      1.565365e+02      1.565654e+02  3.092376e+04\n",
       "min      1.000000e+00      1.000000e+00  1.000000e+00\n",
       "25%      7.700000e+01      7.700000e+01  4.120000e+02\n",
       "50%      1.740000e+02      1.740000e+02  7.120000e+02\n",
       "75%      2.910000e+02      2.910000e+02  1.289000e+03\n",
       "max      6.730000e+02      6.750000e+02  9.387024e+06"
      ]
     },
     "execution_count": 19,
     "metadata": {},
     "output_type": "execute_result"
    }
   ],
   "source": [
    "all_trips.describe()"
   ]
  },
  {
   "cell_type": "code",
   "execution_count": 20,
   "metadata": {},
   "outputs": [
    {
     "data": {
      "text/html": [
       "<div>\n",
       "<style scoped>\n",
       "    .dataframe tbody tr th:only-of-type {\n",
       "        vertical-align: middle;\n",
       "    }\n",
       "\n",
       "    .dataframe tbody tr th {\n",
       "        vertical-align: top;\n",
       "    }\n",
       "\n",
       "    .dataframe thead th {\n",
       "        text-align: right;\n",
       "    }\n",
       "</style>\n",
       "<table border=\"1\" class=\"dataframe\">\n",
       "  <thead>\n",
       "    <tr style=\"text-align: right;\">\n",
       "      <th></th>\n",
       "      <th>ride_length</th>\n",
       "    </tr>\n",
       "    <tr>\n",
       "      <th>member_casual</th>\n",
       "      <th></th>\n",
       "    </tr>\n",
       "  </thead>\n",
       "  <tbody>\n",
       "    <tr>\n",
       "      <th>casual</th>\n",
       "      <td>9387024.0</td>\n",
       "    </tr>\n",
       "    <tr>\n",
       "      <th>member</th>\n",
       "      <td>9056634.0</td>\n",
       "    </tr>\n",
       "  </tbody>\n",
       "</table>\n",
       "</div>"
      ],
      "text/plain": [
       "               ride_length\n",
       "member_casual             \n",
       "casual           9387024.0\n",
       "member           9056634.0"
      ]
     },
     "execution_count": 20,
     "metadata": {},
     "output_type": "execute_result"
    }
   ],
   "source": [
    "all_trips.pivot_table(values=\"ride_length\", index=['member_casual'],aggfunc=\"max\")"
   ]
  },
  {
   "cell_type": "code",
   "execution_count": 21,
   "metadata": {},
   "outputs": [
    {
     "data": {
      "text/html": [
       "<div>\n",
       "<style scoped>\n",
       "    .dataframe tbody tr th:only-of-type {\n",
       "        vertical-align: middle;\n",
       "    }\n",
       "\n",
       "    .dataframe tbody tr th {\n",
       "        vertical-align: top;\n",
       "    }\n",
       "\n",
       "    .dataframe thead th {\n",
       "        text-align: right;\n",
       "    }\n",
       "</style>\n",
       "<table border=\"1\" class=\"dataframe\">\n",
       "  <thead>\n",
       "    <tr style=\"text-align: right;\">\n",
       "      <th></th>\n",
       "      <th>ride_length</th>\n",
       "    </tr>\n",
       "    <tr>\n",
       "      <th>member_casual</th>\n",
       "      <th></th>\n",
       "    </tr>\n",
       "  </thead>\n",
       "  <tbody>\n",
       "    <tr>\n",
       "      <th>casual</th>\n",
       "      <td>3552.746285</td>\n",
       "    </tr>\n",
       "    <tr>\n",
       "      <th>member</th>\n",
       "      <td>849.990912</td>\n",
       "    </tr>\n",
       "  </tbody>\n",
       "</table>\n",
       "</div>"
      ],
      "text/plain": [
       "               ride_length\n",
       "member_casual             \n",
       "casual         3552.746285\n",
       "member          849.990912"
      ]
     },
     "execution_count": 21,
     "metadata": {},
     "output_type": "execute_result"
    }
   ],
   "source": [
    "all_trips.pivot_table(values=\"ride_length\", index=['member_casual'],aggfunc=\"mean\")"
   ]
  },
  {
   "cell_type": "markdown",
   "metadata": {},
   "source": [
    "## Station Analysis on ride length"
   ]
  },
  {
   "cell_type": "code",
   "execution_count": null,
   "metadata": {},
   "outputs": [],
   "source": []
  },
  {
   "cell_type": "code",
   "execution_count": 22,
   "metadata": {},
   "outputs": [
    {
     "data": {
      "text/html": [
       "<div>\n",
       "<style scoped>\n",
       "    .dataframe tbody tr th:only-of-type {\n",
       "        vertical-align: middle;\n",
       "    }\n",
       "\n",
       "    .dataframe tbody tr th {\n",
       "        vertical-align: top;\n",
       "    }\n",
       "\n",
       "    .dataframe thead th {\n",
       "        text-align: right;\n",
       "    }\n",
       "</style>\n",
       "<table border=\"1\" class=\"dataframe\">\n",
       "  <thead>\n",
       "    <tr style=\"text-align: right;\">\n",
       "      <th></th>\n",
       "      <th>ride_length</th>\n",
       "    </tr>\n",
       "    <tr>\n",
       "      <th>start_station_name</th>\n",
       "      <th></th>\n",
       "    </tr>\n",
       "  </thead>\n",
       "  <tbody>\n",
       "    <tr>\n",
       "      <th>Streeter Dr &amp; Grand Ave</th>\n",
       "      <td>68378</td>\n",
       "    </tr>\n",
       "    <tr>\n",
       "      <th>Canal St &amp; Adams St</th>\n",
       "      <td>55860</td>\n",
       "    </tr>\n",
       "    <tr>\n",
       "      <th>Lake Shore Dr &amp; Monroe St</th>\n",
       "      <td>50531</td>\n",
       "    </tr>\n",
       "    <tr>\n",
       "      <th>Clinton St &amp; Madison St</th>\n",
       "      <td>50140</td>\n",
       "    </tr>\n",
       "    <tr>\n",
       "      <th>Clinton St &amp; Washington Blvd</th>\n",
       "      <td>46395</td>\n",
       "    </tr>\n",
       "    <tr>\n",
       "      <th>Columbus Dr &amp; Randolph St</th>\n",
       "      <td>38962</td>\n",
       "    </tr>\n",
       "    <tr>\n",
       "      <th>Michigan Ave &amp; Washington St</th>\n",
       "      <td>37237</td>\n",
       "    </tr>\n",
       "    <tr>\n",
       "      <th>Michigan Ave &amp; Oak St</th>\n",
       "      <td>35966</td>\n",
       "    </tr>\n",
       "    <tr>\n",
       "      <th>Lake Shore Dr &amp; North Blvd</th>\n",
       "      <td>35004</td>\n",
       "    </tr>\n",
       "    <tr>\n",
       "      <th>Millennium Park</th>\n",
       "      <td>34542</td>\n",
       "    </tr>\n",
       "  </tbody>\n",
       "</table>\n",
       "</div>"
      ],
      "text/plain": [
       "                              ride_length\n",
       "start_station_name                       \n",
       "Streeter Dr & Grand Ave             68378\n",
       "Canal St & Adams St                 55860\n",
       "Lake Shore Dr & Monroe St           50531\n",
       "Clinton St & Madison St             50140\n",
       "Clinton St & Washington Blvd        46395\n",
       "Columbus Dr & Randolph St           38962\n",
       "Michigan Ave & Washington St        37237\n",
       "Michigan Ave & Oak St               35966\n",
       "Lake Shore Dr & North Blvd          35004\n",
       "Millennium Park                     34542"
      ]
     },
     "execution_count": 22,
     "metadata": {},
     "output_type": "execute_result"
    }
   ],
   "source": [
    "station_avg = all_trips.pivot_table(values=\"ride_length\",    index=['start_station_name'],aggfunc=\"count\").sort_values('ride_length', ascending=False).head(10)\n",
    "station_avg"
   ]
  },
  {
   "cell_type": "code",
   "execution_count": 23,
   "metadata": {},
   "outputs": [
    {
     "data": {
      "text/html": [
       "<div>\n",
       "<style scoped>\n",
       "    .dataframe tbody tr th:only-of-type {\n",
       "        vertical-align: middle;\n",
       "    }\n",
       "\n",
       "    .dataframe tbody tr th {\n",
       "        vertical-align: top;\n",
       "    }\n",
       "\n",
       "    .dataframe thead th {\n",
       "        text-align: right;\n",
       "    }\n",
       "</style>\n",
       "<table border=\"1\" class=\"dataframe\">\n",
       "  <thead>\n",
       "    <tr style=\"text-align: right;\">\n",
       "      <th></th>\n",
       "      <th>ride_length</th>\n",
       "    </tr>\n",
       "    <tr>\n",
       "      <th>start_station_name</th>\n",
       "      <th></th>\n",
       "    </tr>\n",
       "  </thead>\n",
       "  <tbody>\n",
       "    <tr>\n",
       "      <th>Michigan Ave &amp; 71st St</th>\n",
       "      <td>13</td>\n",
       "    </tr>\n",
       "    <tr>\n",
       "      <th>South Chicago Ave &amp; Elliot Ave</th>\n",
       "      <td>12</td>\n",
       "    </tr>\n",
       "    <tr>\n",
       "      <th>Elizabeth St &amp; 59th St</th>\n",
       "      <td>10</td>\n",
       "    </tr>\n",
       "    <tr>\n",
       "      <th>Racine Ave &amp; 61st St</th>\n",
       "      <td>10</td>\n",
       "    </tr>\n",
       "    <tr>\n",
       "      <th>Racine Ave &amp; 65th St</th>\n",
       "      <td>10</td>\n",
       "    </tr>\n",
       "    <tr>\n",
       "      <th>MTL-ECO5.1-01</th>\n",
       "      <td>8</td>\n",
       "    </tr>\n",
       "    <tr>\n",
       "      <th>DIVVY CASSETTE REPAIR MOBILE STATION</th>\n",
       "      <td>3</td>\n",
       "    </tr>\n",
       "    <tr>\n",
       "      <th>LBS - BBB La Magie</th>\n",
       "      <td>1</td>\n",
       "    </tr>\n",
       "    <tr>\n",
       "      <th>Special Events</th>\n",
       "      <td>1</td>\n",
       "    </tr>\n",
       "    <tr>\n",
       "      <th>HQ QR</th>\n",
       "      <td>1</td>\n",
       "    </tr>\n",
       "  </tbody>\n",
       "</table>\n",
       "</div>"
      ],
      "text/plain": [
       "                                      ride_length\n",
       "start_station_name                               \n",
       "Michigan Ave & 71st St                         13\n",
       "South Chicago Ave & Elliot Ave                 12\n",
       "Elizabeth St & 59th St                         10\n",
       "Racine Ave & 61st St                           10\n",
       "Racine Ave & 65th St                           10\n",
       "MTL-ECO5.1-01                                   8\n",
       "DIVVY CASSETTE REPAIR MOBILE STATION            3\n",
       "LBS - BBB La Magie                              1\n",
       "Special Events                                  1\n",
       "HQ QR                                           1"
      ]
     },
     "execution_count": 23,
     "metadata": {},
     "output_type": "execute_result"
    }
   ],
   "source": [
    "station_avg = all_trips.pivot_table(values=\"ride_length\",    index=['start_station_name'],aggfunc=\"count\").sort_values('ride_length', ascending=False).tail(10)\n",
    "station_avg"
   ]
  },
  {
   "cell_type": "code",
   "execution_count": 24,
   "metadata": {},
   "outputs": [
    {
     "data": {
      "text/html": [
       "<div>\n",
       "<style scoped>\n",
       "    .dataframe tbody tr th:only-of-type {\n",
       "        vertical-align: middle;\n",
       "    }\n",
       "\n",
       "    .dataframe tbody tr th {\n",
       "        vertical-align: top;\n",
       "    }\n",
       "\n",
       "    .dataframe thead th {\n",
       "        text-align: right;\n",
       "    }\n",
       "</style>\n",
       "<table border=\"1\" class=\"dataframe\">\n",
       "  <thead>\n",
       "    <tr style=\"text-align: right;\">\n",
       "      <th></th>\n",
       "      <th>ride_length</th>\n",
       "    </tr>\n",
       "    <tr>\n",
       "      <th>end_station_name</th>\n",
       "      <th></th>\n",
       "    </tr>\n",
       "  </thead>\n",
       "  <tbody>\n",
       "    <tr>\n",
       "      <th>HUBBARD ST BIKE CHECKING (LBS-WH-TEST)</th>\n",
       "      <td>1.198564e+06</td>\n",
       "    </tr>\n",
       "    <tr>\n",
       "      <th>Rhodes Ave &amp; 71st St</th>\n",
       "      <td>3.388090e+05</td>\n",
       "    </tr>\n",
       "    <tr>\n",
       "      <th>Halsted St &amp; 51st St</th>\n",
       "      <td>2.138339e+05</td>\n",
       "    </tr>\n",
       "    <tr>\n",
       "      <th>DIVVY Map Frame B/C Station</th>\n",
       "      <td>2.105636e+05</td>\n",
       "    </tr>\n",
       "    <tr>\n",
       "      <th>Wentworth Ave &amp; 63rd St</th>\n",
       "      <td>2.003257e+05</td>\n",
       "    </tr>\n",
       "    <tr>\n",
       "      <th>...</th>\n",
       "      <td>...</td>\n",
       "    </tr>\n",
       "    <tr>\n",
       "      <th>Kingsbury St &amp; Kinzie St</th>\n",
       "      <td>6.320018e+02</td>\n",
       "    </tr>\n",
       "    <tr>\n",
       "      <th>Special Events</th>\n",
       "      <td>5.550000e+02</td>\n",
       "    </tr>\n",
       "    <tr>\n",
       "      <th>TS ~ DIVVY PARTS TESTING</th>\n",
       "      <td>5.205000e+02</td>\n",
       "    </tr>\n",
       "    <tr>\n",
       "      <th>LBS - BBB La Magie</th>\n",
       "      <td>1.500000e+02</td>\n",
       "    </tr>\n",
       "    <tr>\n",
       "      <th>MTL-ECO5.1-01</th>\n",
       "      <td>1.215000e+02</td>\n",
       "    </tr>\n",
       "  </tbody>\n",
       "</table>\n",
       "<p>643 rows × 1 columns</p>\n",
       "</div>"
      ],
      "text/plain": [
       "                                         ride_length\n",
       "end_station_name                                    \n",
       "HUBBARD ST BIKE CHECKING (LBS-WH-TEST)  1.198564e+06\n",
       "Rhodes Ave & 71st St                    3.388090e+05\n",
       "Halsted St & 51st St                    2.138339e+05\n",
       "DIVVY Map Frame B/C Station             2.105636e+05\n",
       "Wentworth Ave & 63rd St                 2.003257e+05\n",
       "...                                              ...\n",
       "Kingsbury St & Kinzie St                6.320018e+02\n",
       "Special Events                          5.550000e+02\n",
       "TS ~ DIVVY PARTS TESTING                5.205000e+02\n",
       "LBS - BBB La Magie                      1.500000e+02\n",
       "MTL-ECO5.1-01                           1.215000e+02\n",
       "\n",
       "[643 rows x 1 columns]"
      ]
     },
     "execution_count": 24,
     "metadata": {},
     "output_type": "execute_result"
    }
   ],
   "source": [
    "bike_avg = all_trips.pivot_table(values=\"ride_length\",    index=['end_station_name'],aggfunc=\"mean\").sort_values('ride_length', ascending=False)\n",
    "bike_avg"
   ]
  },
  {
   "cell_type": "markdown",
   "metadata": {},
   "source": [
    "### check out yearly subs"
   ]
  },
  {
   "cell_type": "code",
   "execution_count": 25,
   "metadata": {},
   "outputs": [
    {
     "data": {
      "text/html": [
       "<div>\n",
       "<style scoped>\n",
       "    .dataframe tbody tr th:only-of-type {\n",
       "        vertical-align: middle;\n",
       "    }\n",
       "\n",
       "    .dataframe tbody tr th {\n",
       "        vertical-align: top;\n",
       "    }\n",
       "\n",
       "    .dataframe thead th {\n",
       "        text-align: right;\n",
       "    }\n",
       "</style>\n",
       "<table border=\"1\" class=\"dataframe\">\n",
       "  <thead>\n",
       "    <tr style=\"text-align: right;\">\n",
       "      <th></th>\n",
       "      <th></th>\n",
       "      <th>ride_length</th>\n",
       "    </tr>\n",
       "    <tr>\n",
       "      <th>member_casual</th>\n",
       "      <th>Year</th>\n",
       "      <th></th>\n",
       "    </tr>\n",
       "  </thead>\n",
       "  <tbody>\n",
       "    <tr>\n",
       "      <th rowspan=\"2\" valign=\"top\">casual</th>\n",
       "      <th>2020</th>\n",
       "      <td>6230.635022</td>\n",
       "    </tr>\n",
       "    <tr>\n",
       "      <th>2019</th>\n",
       "      <td>3413.100497</td>\n",
       "    </tr>\n",
       "    <tr>\n",
       "      <th rowspan=\"2\" valign=\"top\">member</th>\n",
       "      <th>2019</th>\n",
       "      <td>863.105750</td>\n",
       "    </tr>\n",
       "    <tr>\n",
       "      <th>2020</th>\n",
       "      <td>760.037143</td>\n",
       "    </tr>\n",
       "  </tbody>\n",
       "</table>\n",
       "</div>"
      ],
      "text/plain": [
       "                    ride_length\n",
       "member_casual Year             \n",
       "casual        2020  6230.635022\n",
       "              2019  3413.100497\n",
       "member        2019   863.105750\n",
       "              2020   760.037143"
      ]
     },
     "execution_count": 25,
     "metadata": {},
     "output_type": "execute_result"
    }
   ],
   "source": [
    "subs=all_trips.pivot_table(values=\"ride_length\", index=['member_casual','Year'],aggfunc=\"mean\").sort_values('ride_length', ascending=False)\n",
    "subs"
   ]
  },
  {
   "cell_type": "markdown",
   "metadata": {},
   "source": [
    "## SHARE \n",
    "1. Determine the best way to share your findings. \n",
    "2. Create effective data visualizations. \n",
    "3. Present your findings.\n"
   ]
  },
  {
   "cell_type": "code",
   "execution_count": 26,
   "metadata": {},
   "outputs": [],
   "source": [
    "import matplotlib.pyplot as plt \n",
    "#plt.rc('font', size=14)"
   ]
  },
  {
   "cell_type": "markdown",
   "metadata": {},
   "source": [
    "### lets see the monthly average ride length"
   ]
  },
  {
   "cell_type": "code",
   "execution_count": 27,
   "metadata": {},
   "outputs": [
    {
     "data": {
      "image/png": "[encoded data removed]",
      "text/plain": [
       "<Figure size 432x288 with 1 Axes>"
      ]
     },
     "metadata": {
      "needs_background": "light"
     },
     "output_type": "display_data"
    }
   ],
   "source": [
    "#lets see the monthly average ride length\n",
    "monthly_ride=all_trips.pivot_table(values=\"ride_length\", index=['Month'],aggfunc=\"mean\").sort_values('ride_length', ascending=False)\n",
    "monthly_ride\n",
    "monthly_ride.plot(kind='bar');\n",
    "plt.xticks(rotation=90);"
   ]
  },
  {
   "cell_type": "markdown",
   "metadata": {},
   "source": [
    "From the graph it shows August is month most rider do spend more time riding followed by:\n",
    "**July,March,September,Febuary,June....**"
   ]
  },
  {
   "cell_type": "markdown",
   "metadata": {},
   "source": [
    "### The monthly average ride length with respect to member subscribtion"
   ]
  },
  {
   "cell_type": "code",
   "execution_count": 28,
   "metadata": {},
   "outputs": [
    {
     "data": {
      "image/png": "[encoded data removed]",
      "text/plain": [
       "<Figure size 432x288 with 1 Axes>"
      ]
     },
     "metadata": {
      "needs_background": "light"
     },
     "output_type": "display_data"
    }
   ],
   "source": [
    "#lets see the monthly average ride length with respect to member subscribtion\n",
    "monthly_sub_ride=all_trips.pivot_table(values=\"ride_length\", index=['Month','member_casual'],aggfunc=\"mean\").sort_values('ride_length', ascending=False)\n",
    "monthly_sub_ride\n",
    "monthly_sub_ride.plot(kind='bar');\n",
    "plt.xticks(rotation=90);"
   ]
  },
  {
   "cell_type": "markdown",
   "metadata": {},
   "source": [
    "Evident from the graph,With **Casual** riders,the highest average time spend on riding is in January,but with **Member** riders, the highest average time spend on riding is in July."
   ]
  },
  {
   "cell_type": "code",
   "execution_count": null,
   "metadata": {},
   "outputs": [],
   "source": []
  },
  {
   "cell_type": "markdown",
   "metadata": {},
   "source": [
    "###  Week Day average ride_length "
   ]
  },
  {
   "cell_type": "code",
   "execution_count": 30,
   "metadata": {},
   "outputs": [],
   "source": [
    "# lets convert Date to DatetimeIndex\n",
    "all_trips['Date'] = pd.DatetimeIndex(all_trips['Date'])\n",
    "\n",
    "\n",
    "#create a new column day_of_week to store the names of day of the week\n",
    "all_trips['day_of_week']= all_trips['Date'].dt.day_name()"
   ]
  },
  {
   "cell_type": "markdown",
   "metadata": {},
   "source": []
  },
  {
   "cell_type": "code",
   "execution_count": 31,
   "metadata": {},
   "outputs": [
    {
     "data": {
      "text/plain": [
       "<matplotlib.axes._subplots.AxesSubplot at 0x22bb5e92d00>"
      ]
     },
     "execution_count": 31,
     "metadata": {},
     "output_type": "execute_result"
    },
    {
     "data": {
      "image/png": "[encoded data removed]",
      "text/plain": [
       "<Figure size 432x288 with 1 Axes>"
      ]
     },
     "metadata": {
      "needs_background": "light"
     },
     "output_type": "display_data"
    }
   ],
   "source": [
    "weekday_ride=all_trips.pivot_table(values=\"ride_length\",    index=['day_of_week'],aggfunc=\"mean\").sort_values('ride_length', ascending=False)\n",
    "weekday_ride.plot(kind='bar')"
   ]
  },
  {
   "cell_type": "markdown",
   "metadata": {},
   "source": [
    "From the graph,the amount of time spend on riding is usually high on **Sunday & Saturday** repectivly on he average."
   ]
  },
  {
   "cell_type": "markdown",
   "metadata": {},
   "source": [
    "###  Weekly average ride_lenghth with respect to membership(casual & member)"
   ]
  },
  {
   "cell_type": "code",
   "execution_count": 32,
   "metadata": {},
   "outputs": [
    {
     "data": {
      "text/plain": [
       "<matplotlib.axes._subplots.AxesSubplot at 0x22bcbc2e850>"
      ]
     },
     "execution_count": 32,
     "metadata": {},
     "output_type": "execute_result"
    },
    {
     "data": {
      "image/png": "[encoded data removed]",
      "text/plain": [
       "<Figure size 432x288 with 1 Axes>"
      ]
     },
     "metadata": {
      "needs_background": "light"
     },
     "output_type": "display_data"
    }
   ],
   "source": [
    "weekly_ride=all_trips.pivot_table(values=\"ride_length\",    index=['day_of_week','member_casual'],aggfunc=\"mean\").sort_values('ride_length', ascending=False)\n",
    "weekly_ride.plot(kind='bar')"
   ]
  },
  {
   "cell_type": "markdown",
   "metadata": {},
   "source": [
    "According to the graph,**Casual** riders mostly spend moretime riding on the bikes on friday,wednesday and thurdays.But **Member** riders spend moretime riding on weekends then monday."
   ]
  },
  {
   "cell_type": "markdown",
   "metadata": {},
   "source": [
    "It is worth noting that from the previous average ride lenghth graph which shows **saturdays and sundays** with highest time riders spend riding,it is most likely to be impacted by **Member** riders.This is evident from the graph above that has  weekends has the highest amount of time spend on riding by **Member**  riders. Also from the graph casual riders have **friday** has day most **casual** riders spend more time which influences the previous graph where **friday** is **3rd** on the average time spent on bikes."
   ]
  },
  {
   "cell_type": "code",
   "execution_count": null,
   "metadata": {},
   "outputs": [],
   "source": []
  },
  {
   "cell_type": "code",
   "execution_count": 34,
   "metadata": {},
   "outputs": [
    {
     "data": {
      "text/plain": [
       "<matplotlib.axes._subplots.AxesSubplot at 0x22bcbd155b0>"
      ]
     },
     "execution_count": 34,
     "metadata": {},
     "output_type": "execute_result"
    },
    {
     "data": {
      "image/png": "[encoded data removed]",
      "text/plain": [
       "<Figure size 432x288 with 1 Axes>"
      ]
     },
     "metadata": {
      "needs_background": "light"
     },
     "output_type": "display_data"
    }
   ],
   "source": [
    "weekly_count=all_trips.pivot_table(values=\"ride_id\",    index=['day_of_week'],aggfunc=\"count\").sort_values('ride_id', ascending=False)\n",
    "weekly_count.plot(kind='bar')"
   ]
  },
  {
   "cell_type": "markdown",
   "metadata": {},
   "source": [
    "from the graph,**Tuesday,Wednesday** appears  to be the highest days where most people actually take rides."
   ]
  },
  {
   "cell_type": "code",
   "execution_count": 35,
   "metadata": {},
   "outputs": [
    {
     "data": {
      "text/plain": [
       "<matplotlib.axes._subplots.AxesSubplot at 0x22bcbd83a00>"
      ]
     },
     "execution_count": 35,
     "metadata": {},
     "output_type": "execute_result"
    },
    {
     "data": {
      "image/png": "[encoded data removed]",
      "text/plain": [
       "<Figure size 432x288 with 1 Axes>"
      ]
     },
     "metadata": {
      "needs_background": "light"
     },
     "output_type": "display_data"
    }
   ],
   "source": [
    "weekly_count=all_trips.pivot_table(values=\"ride_id\",    index=['day_of_week','member_casual'],aggfunc=\"count\").sort_values('ride_id', ascending=False)\n",
    "weekly_count.plot(kind='bar')"
   ]
  },
  {
   "cell_type": "markdown",
   "metadata": {},
   "source": [
    "in terms of the graph,**member** takes more rides on Tuesday while less peoble take on Sunday and Saturday.\n",
    "but **casual** more people take rides on Saturday and Sunday but less **casual** take on Tuesday.\n",
    "this is sharp contrast between **member & casual** "
   ]
  },
  {
   "cell_type": "code",
   "execution_count": 36,
   "metadata": {},
   "outputs": [
    {
     "data": {
      "text/plain": [
       "day_of_week\n",
       "Friday       575194\n",
       "Monday       575492\n",
       "Saturday     497501\n",
       "Sunday       449257\n",
       "Thursday     586857\n",
       "Tuesday      598955\n",
       "Wednesday    592786\n",
       "Name: ride_length, dtype: int64"
      ]
     },
     "execution_count": 36,
     "metadata": {},
     "output_type": "execute_result"
    }
   ],
   "source": [
    "all_trips.groupby(['day_of_week'])['ride_length'].count()"
   ]
  },
  {
   "cell_type": "code",
   "execution_count": null,
   "metadata": {},
   "outputs": [],
   "source": [
    "all_trips"
   ]
  },
  {
   "cell_type": "code",
   "execution_count": 51,
   "metadata": {},
   "outputs": [],
   "source": []
  },
  {
   "cell_type": "code",
   "execution_count": null,
   "metadata": {},
   "outputs": [],
   "source": [
    " "
   ]
  },
  {
   "cell_type": "markdown",
   "metadata": {},
   "source": [
    "## ACT PHASE"
   ]
  },
  {
   "cell_type": "markdown",
   "metadata": {},
   "source": [
    "1.What is your final conclusion based on your analysis?\n",
    "2.How could your team and business apply your insights? \n",
    "3.What next steps would you or your stakeholders take based on your findings? \n",
    "4.Is there additional data you could use to expand on your findings?"
   ]
  },
  {
   "cell_type": "markdown",
   "metadata": {},
   "source": [
    "####  1. How do annual members and casual riders use Cyclistic bikes differently?\n",
    "\n",
    "From the analysis and visualization,we were able to monitor the and as well as differentiate between casual and member riders.According to the graph,**Casual** riders mostly spend moretime riding on the bikes on friday,wednesday and thurdays.But **Member** riders spend moretime riding on weekends then monday.But on a general riders do spend more time ridng on  weekends.\n",
    "Also with analysis based on monthly usage;the following observation was made:From the graph it shows **August** is month most riders  spend more time riding followed by: July,March,September,Febuary,June.\n",
    "furthermore with respect types of riders with to it is evident from the graph,With Casual riders,the highest average time spend on riding is in **January**,but with Member riders, the highest average time spend on riding is in **July**.\n",
    "\n",
    "#### 2. Why would casual riders buy Cyclistic annual memberships? \n",
    "From the analysis,use the daily to help convert casual riders to member riders,we see casual rider hence wedesign attractive packages for casual users that become member riders.Discount should be offered to casual riders that \n",
    "\n",
    "\n",
    "#### 3. How can Cyclistic use digital media to influence casual riders to become members?\n",
    "use the monthly data to plan towards seasonal periods.This because we know the months that have highest average time that is spent ,hence we will know when to run campaigns to attract potential riders.Also sice the general amount of time increases on weekend "
   ]
  }
 ],
 "metadata": {
  "kernelspec": {
   "display_name": "Python 3",
   "language": "python",
   "name": "python3"
  },
  "language_info": {
   "codemirror_mode": {
    "name": "ipython",
    "version": 3
   },
   "file_extension": ".py",
   "mimetype": "text/x-python",
   "name": "python",
   "nbconvert_exporter": "python",
   "pygments_lexer": "ipython3",
   "version": "3.8.3"
  }
 },
 "nbformat": 4,
 "nbformat_minor": 4
}
